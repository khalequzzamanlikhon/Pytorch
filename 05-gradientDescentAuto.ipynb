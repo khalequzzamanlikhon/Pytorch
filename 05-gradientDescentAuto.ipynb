{
 "cells": [
  {
   "attachments": {},
   "cell_type": "markdown",
   "metadata": {},
   "source": [
    "In the previous notebook we used pytorch for auto gradient calculations. Now we will implement\n",
    "    whole linear regression  using pytorch\n",
    "\n",
    ".there are three steps for this.\n",
    "- Design model (input,output size,forward pass)\n",
    "- construct loss and optimizer\n",
    "- training loop\n",
    "\n",
    "\n",
    "-- forward pass : comopute prediction\n",
    "\n",
    "-- backward pass: gradients calculations\n",
    "-- update weights\n",
    "\n",
    " from training loop  to last we do cople of times untill we are done"
   ]
  },
  {
   "cell_type": "code",
   "execution_count": 131,
   "metadata": {},
   "outputs": [],
   "source": [
    "import torch\n",
    "import torch.nn as nn"
   ]
  },
  {
   "attachments": {},
   "cell_type": "markdown",
   "metadata": {},
   "source": [
    "#### Linear regression\n",
    "f = w * x \n",
    "\n",
    " here : f = 2 * x"
   ]
  },
  {
   "attachments": {},
   "cell_type": "markdown",
   "metadata": {},
   "source": [
    "while using pytorch model we need to reshape the samples. i.e two dimesional array. where number of rows is the num of samples. for each row we have the number of features. we also need not to initialize weights anymore. Because pytorch model has it."
   ]
  },
  {
   "cell_type": "code",
   "execution_count": 132,
   "metadata": {},
   "outputs": [],
   "source": [
    "# 0) training samples\n",
    "X=torch.tensor([[1],[2],[3],[4]],dtype=torch.float32)\n",
    "Y=torch.tensor([[2],[4],[6],[8]],dtype=torch.float32)\n",
    "# 1) Design model: weights to optimize and forward function \n",
    "w=torch.tensor(0.0,dtype=torch.float32,requires_grad=True)\n",
    "\n"
   ]
  },
  {
   "cell_type": "code",
   "execution_count": 134,
   "metadata": {},
   "outputs": [
    {
     "name": "stdout",
     "output_type": "stream",
     "text": [
      "#samples: 4, #features: 1\n"
     ]
    }
   ],
   "source": [
    "num_samples,num_features=X.shape\n",
    "print(f'#samples: {num_samples}, #features: {num_features}')"
   ]
  },
  {
   "cell_type": "code",
   "execution_count": 135,
   "metadata": {},
   "outputs": [],
   "source": [
    "# 0) create a test sample\n",
    "\n",
    "X_test=torch.tensor([5],dtype=torch.float32)"
   ]
  },
  {
   "attachments": {},
   "cell_type": "markdown",
   "metadata": {},
   "source": [
    " 1) Design Model, the model has to implement the forward pass!\n",
    "Here we can use a built-in model from PyTorch"
   ]
  },
  {
   "cell_type": "code",
   "execution_count": 125,
   "metadata": {},
   "outputs": [],
   "source": [
    "input_size=num_features\n",
    "output_size=num_features\n"
   ]
  },
  {
   "cell_type": "code",
   "execution_count": 136,
   "metadata": {},
   "outputs": [],
   "source": [
    "#model=nn.Linear(input_size,output_size)"
   ]
  },
  {
   "attachments": {},
   "cell_type": "markdown",
   "metadata": {},
   "source": [
    "here we used only one layer which is given in pytorch. if we need custom model then we have to write as follows:\n"
   ]
  },
  {
   "cell_type": "code",
   "execution_count": 137,
   "metadata": {},
   "outputs": [],
   "source": [
    "class LinearRegression(nn.Module):\n",
    "    def __init__(self, input_dim, output_dim):\n",
    "        super(LinearRegression, self).__init__()\n",
    "        # define diferent layers\n",
    "        self.lin = nn.Linear(input_dim, output_dim)\n",
    "    \n",
    "    def forward(self, x):\n",
    "        return self.lin(x)\n",
    "model = LinearRegression(input_size, output_size)"
   ]
  },
  {
   "cell_type": "code",
   "execution_count": 138,
   "metadata": {},
   "outputs": [
    {
     "name": "stdout",
     "output_type": "stream",
     "text": [
      "prediction before training : f(5)= -0.432\n"
     ]
    }
   ],
   "source": [
    "print(f\"prediction before training : f(5)= {model(X_test).item():.3f}\")"
   ]
  },
  {
   "cell_type": "code",
   "execution_count": 139,
   "metadata": {},
   "outputs": [],
   "source": [
    "# 2) Define loss and optimizer\n",
    "learning_rate=0.01\n",
    "n_iters=100\n",
    "#callable function\n",
    "loss=nn.MSELoss()\n",
    "optimizer=torch.optim.SGD(model.parameters(),lr=learning_rate)"
   ]
  },
  {
   "cell_type": "code",
   "execution_count": 140,
   "metadata": {},
   "outputs": [
    {
     "name": "stdout",
     "output_type": "stream",
     "text": [
      "epoch : 1: weights= 0.117, loss=30.65306473\n",
      "epoch : 11: weights= 1.392, loss=0.98201334\n",
      "epoch : 21: weights= 1.606, loss=0.20335464\n",
      "epoch : 31: weights= 1.649, loss=0.17285156\n",
      "epoch : 41: weights= 1.665, loss=0.16230765\n",
      "epoch : 51: weights= 1.675, loss=0.15284805\n",
      "epoch : 61: weights= 1.685, loss=0.14395116\n",
      "epoch : 71: weights= 1.694, loss=0.13557246\n",
      "epoch : 81: weights= 1.704, loss=0.12768143\n",
      "epoch : 91: weights= 1.712, loss=0.12024976\n",
      "prediction after training : f(5)= 9.423\n"
     ]
    }
   ],
   "source": [
    "# 3) trainig loop\n",
    "for epoch in range(n_iters):\n",
    "    #predic=forward pass\n",
    "    y_pred=model(X)\n",
    "\n",
    "    # loss\n",
    "    l=loss(Y,y_pred)\n",
    "\n",
    "    # calculate gradient = backward pass\n",
    "\n",
    "    l.backward()\n",
    "\n",
    "    #update weights\n",
    "    optimizer.step()\n",
    "    #zero the gradients after optimizing\n",
    "    optimizer.zero_grad()\n",
    "\n",
    "    if epoch%10 ==0:\n",
    "        [w,b]=model.parameters()\n",
    "        print(f\"epoch : {epoch+1}: weights= {w[0][0].item():.3f}, loss={l.item():.8f}\")\n",
    "\n",
    "print(f\"prediction after training : f(5)= {model(X_test).item():.3f}\")"
   ]
  },
  {
   "cell_type": "markdown",
   "metadata": {},
   "source": []
  }
 ],
 "metadata": {
  "kernelspec": {
   "display_name": "Python 3",
   "language": "python",
   "name": "python3"
  },
  "language_info": {
   "codemirror_mode": {
    "name": "ipython",
    "version": 3
   },
   "file_extension": ".py",
   "mimetype": "text/x-python",
   "name": "python",
   "nbconvert_exporter": "python",
   "pygments_lexer": "ipython3",
   "version": "3.11.3"
  },
  "orig_nbformat": 4
 },
 "nbformat": 4,
 "nbformat_minor": 2
}
