{
 "cells": [
  {
   "attachments": {},
   "cell_type": "markdown",
   "metadata": {},
   "source": [
    "# Tensor\n",
    "-Tensor can be said as the representation of data in a multidimensional array"
   ]
  },
  {
   "cell_type": "code",
   "execution_count": 2,
   "metadata": {},
   "outputs": [],
   "source": [
    "import torch"
   ]
  },
  {
   "attachments": {},
   "cell_type": "markdown",
   "metadata": {},
   "source": [
    "Everything in pytorch is based on Tensor operations.\n",
    "A tensor can have different dimensions.\n",
    "so it can be 1d, 2d, or even 3d and higher.\n",
    "scalar, vector, matrix, tensor.\n",
    "torch.empty(size): uninitiallized"
   ]
  },
  {
   "cell_type": "code",
   "execution_count": 10,
   "metadata": {},
   "outputs": [
    {
     "name": "stdout",
     "output_type": "stream",
     "text": [
      "tensor([2.0944e+23])\n",
      "torch.float32\n",
      "tensor([              1, 140717106257928])\n",
      " one d vector tensor([9.6720e+00, 4.5911e-41, 3.6724e+12])\n",
      "tensor matrix tensor([[0., 0., 0.],\n",
      "        [0., 0., 0.]])\n",
      "tensor  tensor([[[0., 0., 0.],\n",
      "         [0., 0., 0.]],\n",
      "\n",
      "        [[0., 0., 0.],\n",
      "         [0., 0., 0.]]])\n"
     ]
    }
   ],
   "source": [
    "x=torch.empty(1) #scalar\n",
    "print(x)\n",
    "print(x.dtype)\n",
    "y=torch.empty(2,dtype=int) #we can initialize datatype\n",
    "print(y)\n",
    "z=torch.empty(3)# vector 1 d\n",
    "print(\" one d vector\",z)\n",
    "m=torch.empty(2,3)# matrix\n",
    "print(\"tensor matrix\",m)\n",
    "t=torch.empty(2,2,3) #tensor ,3 dimensions\n",
    "print(\"tensor \",t)\n"
   ]
  },
  {
   "cell_type": "code",
   "execution_count": 12,
   "metadata": {},
   "outputs": [
    {
     "name": "stdout",
     "output_type": "stream",
     "text": [
      "tensor([0.1789, 0.1284, 0.4761])\n",
      "tensor([[0.1273, 0.6425],\n",
      "        [0.9266, 0.7386],\n",
      "        [0.6058, 0.6165]])\n"
     ]
    }
   ],
   "source": [
    "#random initialization\n",
    "x=torch.rand(3)\n",
    "print(x)\n",
    "y=torch.rand(3,2)\n",
    "print(y)"
   ]
  },
  {
   "cell_type": "code",
   "execution_count": 13,
   "metadata": {},
   "outputs": [
    {
     "name": "stdout",
     "output_type": "stream",
     "text": [
      "tensor([[0., 0., 0.],\n",
      "        [0., 0., 0.]])\n",
      "tensor([[1., 1., 1.],\n",
      "        [1., 1., 1.]])\n"
     ]
    }
   ],
   "source": [
    "print(torch.zeros(2,3))\n",
    "print(torch.ones(2,3))"
   ]
  },
  {
   "cell_type": "code",
   "execution_count": 15,
   "metadata": {},
   "outputs": [
    {
     "name": "stdout",
     "output_type": "stream",
     "text": [
      "<built-in method size of Tensor object at 0x0000015B47B74910>\n",
      "torch.float32\n"
     ]
    }
   ],
   "source": [
    "print(x.size)\n",
    "print(x.dtype)"
   ]
  },
  {
   "cell_type": "code",
   "execution_count": 17,
   "metadata": {},
   "outputs": [
    {
     "name": "stdout",
     "output_type": "stream",
     "text": [
      "tensor([5.5000, 3.0000])\n",
      "torch.Size([2])\n"
     ]
    }
   ],
   "source": [
    "#construct from data\n",
    "x=torch.tensor([5.5,3])\n",
    "print(x)\n",
    "print(x.size())"
   ]
  },
  {
   "attachments": {},
   "cell_type": "markdown",
   "metadata": {},
   "source": [
    "requires_grad argument \n",
    "\n",
    "This will tell pytorch that it will need to calculate the gradients for this tensor\n",
    "\n",
    "later in your optimization steps\n",
    "\n",
    "\n",
    "i.e. this is a variable in your model that you want to optimize"
   ]
  },
  {
   "cell_type": "code",
   "execution_count": 21,
   "metadata": {},
   "outputs": [],
   "source": [
    "x=torch.tensor([5.5,3],requires_grad=True)\n",
    "\n"
   ]
  },
  {
   "cell_type": "code",
   "execution_count": 22,
   "metadata": {},
   "outputs": [
    {
     "name": "stdout",
     "output_type": "stream",
     "text": [
      "addition result tensor([[0.7091, 0.7411],\n",
      "        [1.0108, 0.8213]])\n"
     ]
    }
   ],
   "source": [
    "#operations\n",
    "x=torch.rand(2,2)\n",
    "y=torch.rand(2,2)\n",
    "\n",
    "#element wise addition\n",
    "z=x+y\n",
    "print(\"addition result\",z)\n"
   ]
  },
  {
   "attachments": {},
   "cell_type": "markdown",
   "metadata": {},
   "source": [
    "torch.add(x,y)\n",
    "\n",
    "in place addition, everythin with a trailing underscore is an inplace operation\n",
    "\n",
    " i.e. it will modify the variable\n",
    "\n",
    "y.add_(x)"
   ]
  },
  {
   "cell_type": "code",
   "execution_count": 23,
   "metadata": {},
   "outputs": [
    {
     "name": "stdout",
     "output_type": "stream",
     "text": [
      "tensor([[0.7091, 0.7411],\n",
      "        [1.0108, 0.8213]])\n"
     ]
    }
   ],
   "source": [
    "print(torch.add(x,y))\n"
   ]
  },
  {
   "cell_type": "code",
   "execution_count": 24,
   "metadata": {},
   "outputs": [
    {
     "name": "stdout",
     "output_type": "stream",
     "text": [
      "tensor([[ 0.6807, -0.1264],\n",
      "        [ 0.4086,  0.1828]])\n",
      "tensor([[ 0.6807, -0.1264],\n",
      "        [ 0.4086,  0.1828]])\n"
     ]
    }
   ],
   "source": [
    "#subtraction\n",
    "s=x-y\n",
    "print(s)\n",
    "print(torch.sub(x,y))"
   ]
  },
  {
   "cell_type": "code",
   "execution_count": 25,
   "metadata": {},
   "outputs": [
    {
     "name": "stdout",
     "output_type": "stream",
     "text": [
      "tensor([[0.0099, 0.1333],\n",
      "        [0.2137, 0.1603]])\n",
      "tensor([[0.0099, 0.1333],\n",
      "        [0.2137, 0.1603]])\n"
     ]
    }
   ],
   "source": [
    "#similarly multiplication\n",
    "m=x*y\n",
    "print(m)\n",
    "print(torch.mul(x,y))"
   ]
  },
  {
   "attachments": {},
   "cell_type": "markdown",
   "metadata": {},
   "source": [
    "# Slicing \n",
    "Slicing is a important concept to work with data."
   ]
  },
  {
   "cell_type": "code",
   "execution_count": 33,
   "metadata": {},
   "outputs": [
    {
     "name": "stdout",
     "output_type": "stream",
     "text": [
      "tensor([[0.6314, 0.5932, 0.8567],\n",
      "        [0.2685, 0.4976, 0.2538],\n",
      "        [0.0144, 0.0581, 0.7994],\n",
      "        [0.5817, 0.0655, 0.7220],\n",
      "        [0.6301, 0.4691, 0.4298]])\n",
      "\n",
      "\n",
      "tensor([0.6314, 0.2685, 0.0144, 0.5817, 0.6301])\n",
      "tensor([0.2685, 0.4976, 0.2538])\n",
      "tensor(0.4976)\n",
      "tensor(0.0581)\n"
     ]
    }
   ],
   "source": [
    "x=torch.rand(5,3)\n",
    "print(x)\n",
    "print(\"\\n\")\n",
    "\n",
    "print(x[:,0]) #all rows , column 0\n",
    "print(x[1,:])#all columns , row 1\n",
    "print(x[1,1])# element at 1,1\n",
    "print(x[2,1]) # tensor at 2,1"
   ]
  },
  {
   "cell_type": "code",
   "execution_count": 35,
   "metadata": {},
   "outputs": [
    {
     "name": "stdout",
     "output_type": "stream",
     "text": [
      "0.4975559711456299\n"
     ]
    }
   ],
   "source": [
    "#get the actual value if only 1 element in your tensor\n",
    "print(x[1,1].item()) #prints the actual value at position 1,1"
   ]
  },
  {
   "cell_type": "code",
   "execution_count": 38,
   "metadata": {},
   "outputs": [
    {
     "name": "stdout",
     "output_type": "stream",
     "text": [
      "torch.Size([4, 4]) torch.Size([16]) torch.Size([2, 8])\n"
     ]
    }
   ],
   "source": [
    "# Reshape with torch.view\n",
    "x=torch.rand(4,4)\n",
    "y=x.view(16)\n",
    "z=x.view(-1,8) # the size -1 is inferred from other dimensions\n",
    "#if -1 it pytorch will automatically determine the necessary size\n",
    "print(x.size(),y.size(),z.size())\n"
   ]
  },
  {
   "cell_type": "code",
   "execution_count": 40,
   "metadata": {},
   "outputs": [
    {
     "name": "stdout",
     "output_type": "stream",
     "text": [
      "tensor([[0.1680, 0.6752, 0.9402, 0.6695],\n",
      "        [0.6282, 0.8161, 0.8267, 0.8992],\n",
      "        [0.3739, 0.2991, 0.5286, 0.6791],\n",
      "        [0.8013, 0.5831, 0.1556, 0.7020]])\n",
      "\n",
      " tensor([0.1680, 0.6752, 0.9402, 0.6695, 0.6282, 0.8161, 0.8267, 0.8992, 0.3739,\n",
      "        0.2991, 0.5286, 0.6791, 0.8013, 0.5831, 0.1556, 0.7020])\n",
      "\n",
      " tensor([[0.1680, 0.6752, 0.9402, 0.6695, 0.6282, 0.8161, 0.8267, 0.8992],\n",
      "        [0.3739, 0.2991, 0.5286, 0.6791, 0.8013, 0.5831, 0.1556, 0.7020]])\n"
     ]
    }
   ],
   "source": [
    "#lets have a look on the tensors\n",
    "print(x)\n",
    "print(\"\\n\",y)\n",
    "print(\"\\n\",z)"
   ]
  },
  {
   "attachments": {},
   "cell_type": "markdown",
   "metadata": {},
   "source": [
    "\n",
    "### Converting a tensor torch into numpy array and vice vesa "
   ]
  },
  {
   "cell_type": "code",
   "execution_count": 41,
   "metadata": {},
   "outputs": [
    {
     "name": "stdout",
     "output_type": "stream",
     "text": [
      "tensor([1., 1., 1., 1., 1.])\n"
     ]
    }
   ],
   "source": [
    "a=torch.ones(5)\n",
    "print(a)"
   ]
  },
  {
   "cell_type": "code",
   "execution_count": 42,
   "metadata": {},
   "outputs": [
    {
     "name": "stdout",
     "output_type": "stream",
     "text": [
      "[1. 1. 1. 1. 1.]\n",
      "<class 'numpy.ndarray'>\n"
     ]
    }
   ],
   "source": [
    "#torch to numpy using .numpy\n",
    "b=a.numpy()\n",
    "print(b)\n",
    "print(type(b))"
   ]
  },
  {
   "attachments": {},
   "cell_type": "markdown",
   "metadata": {},
   "source": [
    "Carful: If the Tensor is on the CPU (not the GPU),\n",
    "both objects will share the same memory location, so changing one will also change the other"
   ]
  },
  {
   "cell_type": "code",
   "execution_count": 43,
   "metadata": {},
   "outputs": [
    {
     "name": "stdout",
     "output_type": "stream",
     "text": [
      "tensor([2., 2., 2., 2., 2.])\n",
      "[2. 2. 2. 2. 2.]\n"
     ]
    }
   ],
   "source": [
    "a.add_(1)\n",
    "print(a)\n",
    "print(b)"
   ]
  },
  {
   "attachments": {},
   "cell_type": "markdown",
   "metadata": {},
   "source": [
    "##### Numpy to torch using .from_numpy(x)"
   ]
  },
  {
   "cell_type": "code",
   "execution_count": 44,
   "metadata": {},
   "outputs": [
    {
     "name": "stdout",
     "output_type": "stream",
     "text": [
      "[1. 1. 1. 1. 1.]\n",
      "tensor([1., 1., 1., 1., 1.], dtype=torch.float64)\n"
     ]
    }
   ],
   "source": [
    "import numpy as np\n",
    "a=np.ones(5)\n",
    "b=torch.from_numpy(a)\n",
    "print(a)\n",
    "print(b)"
   ]
  },
  {
   "cell_type": "code",
   "execution_count": 45,
   "metadata": {},
   "outputs": [
    {
     "name": "stdout",
     "output_type": "stream",
     "text": [
      "[2. 2. 2. 2. 2.]\n",
      "tensor([2., 2., 2., 2., 2.], dtype=torch.float64)\n"
     ]
    }
   ],
   "source": [
    "# again be careful when modifying\n",
    "a+=1\n",
    "print(a)\n",
    "print(b)"
   ]
  },
  {
   "attachments": {},
   "cell_type": "markdown",
   "metadata": {},
   "source": [
    "by default all tensors are created on the CPU,\n",
    "but you can also move them to the GPU (only if it's available )"
   ]
  },
  {
   "cell_type": "code",
   "execution_count": 46,
   "metadata": {},
   "outputs": [],
   "source": [
    "if torch.cuda.is_available():\n",
    "    device=torch.device(\"cuda\") # a cuda device object\n",
    "    y=torch.ones_like(x,device=device)# directly create a tensor on GPU\n",
    "    x=x.to(device)# or just use string ''.to(\"cuda\")\n",
    "    x=x+y\n",
    "    # z = z.numpy() # not possible because numpy cannot handle GPU tenors\n",
    "    #move to cup again\n",
    "    z.to(\"cpu\") #  # ``.to`` can also change dtype together!"
   ]
  },
  {
   "cell_type": "code",
   "execution_count": null,
   "metadata": {},
   "outputs": [],
   "source": []
  }
 ],
 "metadata": {
  "kernelspec": {
   "display_name": "Python 3",
   "language": "python",
   "name": "python3"
  },
  "language_info": {
   "codemirror_mode": {
    "name": "ipython",
    "version": 3
   },
   "file_extension": ".py",
   "mimetype": "text/x-python",
   "name": "python",
   "nbconvert_exporter": "python",
   "pygments_lexer": "ipython3",
   "version": "3.11.3"
  },
  "orig_nbformat": 4
 },
 "nbformat": 4,
 "nbformat_minor": 2
}
