{
 "cells": [
  {
   "cell_type": "code",
   "execution_count": 7,
   "metadata": {},
   "outputs": [],
   "source": [
    "import torch\n",
    "import torch.nn as nn\n",
    "import torch.nn.functional as F\n",
    "import torchvision\n",
    "import torchvision.transforms as transforms\n",
    "import matplotlib.pyplot as plt\n",
    "import numpy as np"
   ]
  },
  {
   "cell_type": "code",
   "execution_count": 8,
   "metadata": {},
   "outputs": [],
   "source": [
    "# device configuration\n",
    "device=torch.device('cuda' if torch.cuda.is_available() else \"cpu\")"
   ]
  },
  {
   "cell_type": "code",
   "execution_count": 9,
   "metadata": {},
   "outputs": [],
   "source": [
    "#hyper parameters \n",
    "num_epochs=5\n",
    "batch_size=4\n",
    "learning_rate=.001"
   ]
  },
  {
   "attachments": {},
   "cell_type": "markdown",
   "metadata": {},
   "source": [
    "dataset has PILImage images of range [0, 1]. \n",
    " We transform them to Tensors of normalized range [-1, 1]"
   ]
  },
  {
   "cell_type": "code",
   "execution_count": 10,
   "metadata": {},
   "outputs": [],
   "source": [
    "#transform\n",
    "transform=transforms.Compose([transforms.ToTensor(),transforms.Normalize((.5,.5,.5),(.5,.5,.5))])"
   ]
  },
  {
   "attachments": {},
   "cell_type": "markdown",
   "metadata": {},
   "source": [
    "#### CIFAR10: 60000 32x32 color images in 10 classes, with 6000 images per class"
   ]
  },
  {
   "cell_type": "code",
   "execution_count": 11,
   "metadata": {},
   "outputs": [
    {
     "name": "stdout",
     "output_type": "stream",
     "text": [
      "Files already downloaded and verified\n",
      "Files already downloaded and verified\n"
     ]
    }
   ],
   "source": [
    "train_dataset = torchvision.datasets.CIFAR10(root='./data', train=True,\n",
    "                                        download=True, transform=transform)\n",
    "\n",
    "test_dataset = torchvision.datasets.CIFAR10(root='./data', train=False,\n",
    "                                       download=True, transform=transform)\n",
    "\n",
    "train_loader = torch.utils.data.DataLoader(train_dataset, batch_size=batch_size,\n",
    "                                          shuffle=True)\n",
    "\n",
    "test_loader = torch.utils.data.DataLoader(test_dataset, batch_size=batch_size,\n",
    "                                         shuffle=False)\n",
    "\n",
    "classes = ('plane', 'car', 'bird', 'cat',\n",
    "           'deer', 'dog', 'frog', 'horse', 'ship', 'truck')\n"
   ]
  },
  {
   "cell_type": "code",
   "execution_count": 13,
   "metadata": {},
   "outputs": [],
   "source": [
    "#get some random trainnig images\n",
    "dataiter=iter(train_loader)\n",
    "images,labels=next(dataiter)"
   ]
  },
  {
   "cell_type": "code",
   "execution_count": 14,
   "metadata": {},
   "outputs": [],
   "source": [
    "# plotting the data\n",
    "def imshow(img):\n",
    "    img=img/2+.05  #unnormalize\n",
    "    npimg=img.numpy()\n",
    "    plt.imshow(np.transpose(npimg,(1,2,0)))\n",
    "    plt.show()"
   ]
  },
  {
   "cell_type": "code",
   "execution_count": 15,
   "metadata": {},
   "outputs": [
    {
     "name": "stderr",
     "output_type": "stream",
     "text": [
      "Clipping input data to the valid range for imshow with RGB data ([0..1] for floats or [0..255] for integers).\n"
     ]
    },
    {
     "data": {
      "image/png": "[encoded data removed]",
      "text/plain": [
       "<Figure size 640x480 with 1 Axes>"
      ]
     },
     "metadata": {},
     "output_type": "display_data"
    }
   ],
   "source": [
    "#show images\n",
    "imshow(torchvision.utils.make_grid(images))"
   ]
  },
  {
   "cell_type": "code",
   "execution_count": 26,
   "metadata": {},
   "outputs": [],
   "source": [
    "# cnn class\n",
    "\n",
    "class ConvNet(nn.Module):\n",
    "    def __init__(self):\n",
    "        super(ConvNet, self).__init__()\n",
    "        self.conv1 = nn.Conv2d(3, 6, 5)\n",
    "        self.pool = nn.MaxPool2d(2, 2)\n",
    "        self.conv2 = nn.Conv2d(6, 16, 5)\n",
    "        self.fc1 = nn.Linear(16 * 5 * 5, 120)\n",
    "        self.fc2 = nn.Linear(120, 84)\n",
    "        self.fc3 = nn.Linear(84, 10)\n",
    "\n",
    "    def forward(self, x):\n",
    "        # -> n, 3, 32, 32\n",
    "        x = self.pool(F.relu(self.conv1(x)))  # -> n, 6, 14, 14\n",
    "        x = self.pool(F.relu(self.conv2(x)))  # -> n, 16, 5, 5\n",
    "        x = x.view(-1, 16 * 5 * 5)            # -> n, 400\n",
    "        x = F.relu(self.fc1(x))               # -> n, 120\n",
    "        x = F.relu(self.fc2(x))               # -> n, 84\n",
    "        x = self.fc3(x)                       # -> n, 10\n",
    "        return x"
   ]
  },
  {
   "cell_type": "code",
   "execution_count": 28,
   "metadata": {},
   "outputs": [],
   "source": [
    "model=ConvNet().to(device)"
   ]
  },
  {
   "cell_type": "code",
   "execution_count": 29,
   "metadata": {},
   "outputs": [],
   "source": [
    "criterion=nn.CrossEntropyLoss()\n",
    "optimizer=torch.optim.SGD(model.parameters(),lr=learning_rate)"
   ]
  },
  {
   "cell_type": "code",
   "execution_count": 30,
   "metadata": {},
   "outputs": [
    {
     "name": "stdout",
     "output_type": "stream",
     "text": [
      "Epoch [1/5], Step [2000/12500], Loss: 2.3452\n",
      "Epoch [1/5], Step [4000/12500], Loss: 2.3058\n",
      "Epoch [1/5], Step [6000/12500], Loss: 2.2987\n",
      "Epoch [1/5], Step [8000/12500], Loss: 2.3058\n",
      "Epoch [1/5], Step [10000/12500], Loss: 2.3092\n",
      "Epoch [1/5], Step [12000/12500], Loss: 2.2948\n",
      "Epoch [2/5], Step [2000/12500], Loss: 2.2747\n",
      "Epoch [2/5], Step [4000/12500], Loss: 2.3081\n",
      "Epoch [2/5], Step [6000/12500], Loss: 2.3164\n",
      "Epoch [2/5], Step [8000/12500], Loss: 2.0440\n",
      "Epoch [2/5], Step [10000/12500], Loss: 1.5983\n",
      "Epoch [2/5], Step [12000/12500], Loss: 1.7935\n",
      "Epoch [3/5], Step [2000/12500], Loss: 2.6469\n",
      "Epoch [3/5], Step [4000/12500], Loss: 2.1766\n",
      "Epoch [3/5], Step [6000/12500], Loss: 1.4620\n",
      "Epoch [3/5], Step [8000/12500], Loss: 1.9569\n",
      "Epoch [3/5], Step [10000/12500], Loss: 1.2450\n",
      "Epoch [3/5], Step [12000/12500], Loss: 1.1230\n",
      "Epoch [4/5], Step [2000/12500], Loss: 1.4554\n",
      "Epoch [4/5], Step [4000/12500], Loss: 1.5107\n",
      "Epoch [4/5], Step [6000/12500], Loss: 1.7521\n",
      "Epoch [4/5], Step [8000/12500], Loss: 1.3121\n",
      "Epoch [4/5], Step [10000/12500], Loss: 1.1230\n",
      "Epoch [4/5], Step [12000/12500], Loss: 1.4413\n",
      "Epoch [5/5], Step [2000/12500], Loss: 1.8050\n",
      "Epoch [5/5], Step [4000/12500], Loss: 1.5744\n",
      "Epoch [5/5], Step [6000/12500], Loss: 2.2920\n",
      "Epoch [5/5], Step [8000/12500], Loss: 1.3108\n",
      "Epoch [5/5], Step [10000/12500], Loss: 1.1955\n",
      "Epoch [5/5], Step [12000/12500], Loss: 0.8711\n",
      "Finished Training\n"
     ]
    }
   ],
   "source": [
    "n_total_steps = len(train_loader)\n",
    "for epoch in range(num_epochs):\n",
    "    for i, (images, labels) in enumerate(train_loader):\n",
    "        # origin shape: [4, 3, 32, 32] = 4, 3, 1024\n",
    "        # input_layer: 3 input channels, 6 output channels, 5 kernel size\n",
    "        images = images.to(device)\n",
    "        labels = labels.to(device)\n",
    "\n",
    "        # Forward pass\n",
    "        outputs = model(images)\n",
    "        loss = criterion(outputs, labels)\n",
    "\n",
    "        # Backward and optimize\n",
    "        optimizer.zero_grad()\n",
    "        loss.backward()\n",
    "        optimizer.step()\n",
    "\n",
    "        if (i+1) % 2000 == 0:\n",
    "            print (f'Epoch [{epoch+1}/{num_epochs}], Step [{i+1}/{n_total_steps}], Loss: {loss.item():.4f}')\n",
    "\n",
    "print('Finished Training')"
   ]
  },
  {
   "cell_type": "code",
   "execution_count": 31,
   "metadata": {},
   "outputs": [],
   "source": [
    "PATH='./cnn.pth'\n",
    "torch.save(model.state_dict(),PATH)"
   ]
  },
  {
   "cell_type": "code",
   "execution_count": 35,
   "metadata": {},
   "outputs": [
    {
     "name": "stdout",
     "output_type": "stream",
     "text": [
      "accuracy of the model:47.22%\n",
      "accuracy of plane: 55.80%\n",
      "accuracy of car: 61.30%\n",
      "accuracy of bird: 17.30%\n",
      "accuracy of cat: 24.80%\n",
      "accuracy of deer: 47.40%\n",
      "accuracy of dog: 46.70%\n",
      "accuracy of frog: 63.80%\n",
      "accuracy of horse: 52.80%\n",
      "accuracy of ship: 54.10%\n",
      "accuracy of truck: 48.20%\n"
     ]
    }
   ],
   "source": [
    "with torch.no_grad():\n",
    "    n_correct=0\n",
    "    n_samples=0\n",
    "    n_class_correct=[0 for i in range(10)]\n",
    "    n_class_samples=[0 for i in range(10)]\n",
    "    for images,labels in test_loader:\n",
    "        images=images.to(device)\n",
    "        labels=labels.to(device)\n",
    "        outputs=model(images)\n",
    "        #max returns (value,index)\n",
    "        _,predicted=torch.max(outputs,1)\n",
    "        n_samples+=labels.shape[0]\n",
    "        n_correct+=(predicted==labels).sum().item()\n",
    "        for i in range(batch_size):\n",
    "            label=labels[i]\n",
    "            pred=predicted[i]\n",
    "            if (label==pred):\n",
    "                n_class_correct[label]+=1\n",
    "            n_class_samples[label]+=1\n",
    "    acc=(n_correct/n_samples)*100.0\n",
    "    print(f\"accuracy of the model:{acc}%\")\n",
    "\n",
    "    #accuracy for each class\n",
    "    for i in range(10):\n",
    "        acc=(n_class_correct[i]/n_class_samples[i])*100.0\n",
    "        print(f\"accuracy of {classes[i]}: {acc:.2f}%\")"
   ]
  },
  {
   "cell_type": "code",
   "execution_count": null,
   "metadata": {},
   "outputs": [],
   "source": []
  }
 ],
 "metadata": {
  "kernelspec": {
   "display_name": "Python 3",
   "language": "python",
   "name": "python3"
  },
  "language_info": {
   "codemirror_mode": {
    "name": "ipython",
    "version": 3
   },
   "file_extension": ".py",
   "mimetype": "text/x-python",
   "name": "python",
   "nbconvert_exporter": "python",
   "pygments_lexer": "ipython3",
   "version": "3.11.3"
  },
  "orig_nbformat": 4
 },
 "nbformat": 4,
 "nbformat_minor": 2
}
