{
 "cells": [
  {
   "attachments": {},
   "cell_type": "markdown",
   "metadata": {},
   "source": [
    "To calculate gradient for all data is a slow process. Rather we can work with batch gradient. Pytorch does this job for us.\n",
    "\n",
    "We need to remember-\n",
    "\n",
    "- epoch: 1 forward and backward pass of all training samples\n",
    "- batch_size: number of training size in one forward and backward pass\n",
    "- number of iterations: number of passess, each pass using [batch_size] number of samples.\n",
    "\n",
    "e.g. 100 samples,batch_size=20--> 100/20=5 iterations for each epoch\n",
    "\n",
    "\n",
    "--> dataloader can do baatch computations for us.\n",
    "\n",
    "1) Implement a custom dataset\n",
    "2) inherit dataset\n",
    "3) implement __init__, __getitem__, and __len__\n",
    "\n"
   ]
  },
  {
   "cell_type": "code",
   "execution_count": 17,
   "metadata": {},
   "outputs": [],
   "source": [
    "import torch\n",
    "import torchvision \n",
    "from torch.utils.data import Dataset, DataLoader\n",
    "import numpy as np\n",
    "import math"
   ]
  },
  {
   "cell_type": "code",
   "execution_count": 18,
   "metadata": {},
   "outputs": [],
   "source": [
    "#own custom dataset\n",
    "class WineDataset(Dataset):\n",
    "    def __init__(self):  #data loading\n",
    "        # Initialize data, download, etc.\n",
    "        # read with numpy or pandas\n",
    "        xy=np.loadtxt(\"wine.csv\",delimiter=\",\",dtype=np.float32,skiprows=1)\n",
    "        # here the first column is the class label, the rest are the features\n",
    "        self.x=torch.from_numpy(xy[:,1:]) # size(n_samples,n_features)\n",
    "        self.y=torch.from_numpy(xy[:,[0]])  #size(n_samples,1)\n",
    "        self.n_samples=xy.shape[0]\n",
    "\n",
    "    # support indexing such that dataset[i] can be used to get i-th sample\n",
    "    def __getitem__(self, index):  \n",
    "        return self.x[index],self.y[index]  #returns a tuple\n",
    "\n",
    "    def __len__(self):    #len dataset\n",
    "        return self.n_samples\n",
    "     "
   ]
  },
  {
   "cell_type": "code",
   "execution_count": 19,
   "metadata": {},
   "outputs": [
    {
     "name": "stdout",
     "output_type": "stream",
     "text": [
      "tensor([1.4230e+01, 1.7100e+00, 2.4300e+00, 1.5600e+01, 1.2700e+02, 2.8000e+00,\n",
      "        3.0600e+00, 2.8000e-01, 2.2900e+00, 5.6400e+00, 1.0400e+00, 3.9200e+00,\n",
      "        1.0650e+03]) tensor([1.])\n"
     ]
    }
   ],
   "source": [
    "# create dataset\n",
    "dataset=WineDataset()\n",
    "#get first sample and unpack\n",
    "first_data=dataset[0]\n",
    "features,labels=first_data\n",
    "print(features,labels)"
   ]
  },
  {
   "cell_type": "code",
   "execution_count": 20,
   "metadata": {},
   "outputs": [
    {
     "name": "stdout",
     "output_type": "stream",
     "text": [
      "tensor([[1.2600e+01, 1.3400e+00, 1.9000e+00, 1.8500e+01, 8.8000e+01, 1.4500e+00,\n",
      "         1.3600e+00, 2.9000e-01, 1.3500e+00, 2.4500e+00, 1.0400e+00, 2.7700e+00,\n",
      "         5.6200e+02],\n",
      "        [1.3080e+01, 3.9000e+00, 2.3600e+00, 2.1500e+01, 1.1300e+02, 1.4100e+00,\n",
      "         1.3900e+00, 3.4000e-01, 1.1400e+00, 9.4000e+00, 5.7000e-01, 1.3300e+00,\n",
      "         5.5000e+02],\n",
      "        [1.4340e+01, 1.6800e+00, 2.7000e+00, 2.5000e+01, 9.8000e+01, 2.8000e+00,\n",
      "         1.3100e+00, 5.3000e-01, 2.7000e+00, 1.3000e+01, 5.7000e-01, 1.9600e+00,\n",
      "         6.6000e+02],\n",
      "        [1.3830e+01, 1.6500e+00, 2.6000e+00, 1.7200e+01, 9.4000e+01, 2.4500e+00,\n",
      "         2.9900e+00, 2.2000e-01, 2.2900e+00, 5.6000e+00, 1.2400e+00, 3.3700e+00,\n",
      "         1.2650e+03]]) tensor([[2.],\n",
      "        [3.],\n",
      "        [3.],\n",
      "        [1.]])\n"
     ]
    }
   ],
   "source": [
    "# load whole dataset with Dataloader\n",
    "dataloader=DataLoader(dataset=dataset,batch_size=4,shuffle=True,num_workers=0) \n",
    "#num_workers{faster loading with multiple subprocess}\n",
    "# convert to an iterator and look at one random sample\n",
    "dataiter=iter(dataloader)\n",
    "#calling next funcion\n",
    "data=next(dataiter)\n",
    "#unpach\n",
    "features,labels=data\n",
    "print(features,labels)\n"
   ]
  },
  {
   "cell_type": "code",
   "execution_count": 21,
   "metadata": {},
   "outputs": [
    {
     "name": "stdout",
     "output_type": "stream",
     "text": [
      "178 45\n"
     ]
    }
   ],
   "source": [
    "# Dummy training loop\n",
    "n_epochs=2\n",
    "total_samples=len(dataset)\n",
    "n_iters=math.ceil(total_samples/4)\n",
    "print(total_samples,n_iters)"
   ]
  },
  {
   "cell_type": "code",
   "execution_count": 22,
   "metadata": {},
   "outputs": [
    {
     "name": "stdout",
     "output_type": "stream",
     "text": [
      "Epoch:1/2, Step 5/45 | Labels torch.Size([4, 1])\n",
      "Epoch:1/2, Step 10/45 | Labels torch.Size([4, 1])\n",
      "Epoch:1/2, Step 15/45 | Labels torch.Size([4, 1])\n",
      "Epoch:1/2, Step 20/45 | Labels torch.Size([4, 1])\n",
      "Epoch:1/2, Step 25/45 | Labels torch.Size([4, 1])\n",
      "Epoch:1/2, Step 30/45 | Labels torch.Size([4, 1])\n",
      "Epoch:1/2, Step 35/45 | Labels torch.Size([4, 1])\n",
      "Epoch:1/2, Step 40/45 | Labels torch.Size([4, 1])\n",
      "Epoch:1/2, Step 45/45 | Labels torch.Size([2, 1])\n",
      "Epoch:2/2, Step 5/45 | Labels torch.Size([4, 1])\n",
      "Epoch:2/2, Step 10/45 | Labels torch.Size([4, 1])\n",
      "Epoch:2/2, Step 15/45 | Labels torch.Size([4, 1])\n",
      "Epoch:2/2, Step 20/45 | Labels torch.Size([4, 1])\n",
      "Epoch:2/2, Step 25/45 | Labels torch.Size([4, 1])\n",
      "Epoch:2/2, Step 30/45 | Labels torch.Size([4, 1])\n",
      "Epoch:2/2, Step 35/45 | Labels torch.Size([4, 1])\n",
      "Epoch:2/2, Step 40/45 | Labels torch.Size([4, 1])\n",
      "Epoch:2/2, Step 45/45 | Labels torch.Size([2, 1])\n"
     ]
    }
   ],
   "source": [
    "for epoch in range(n_epochs):\n",
    "    for i, (inputs,labels) in enumerate(dataloader):\n",
    "        # here: 178 samples, batch_size = 4, n_iters=178/4=44.5 -> 45 iterations\n",
    "        # Run your training process\n",
    "        if (i+1)%5==0:\n",
    "            print(f\"Epoch:{epoch+1}/{n_epochs}, Step {i+1}/{n_iters} | Labels {labels.shape}\")"
   ]
  },
  {
   "attachments": {},
   "cell_type": "markdown",
   "metadata": {},
   "source": [
    "    # some famous datasets are available in torchvision.datasets\n",
    "    # e.g. MNIST, Fashion-MNIST, CIFAR10, COCO"
   ]
  },
  {
   "cell_type": "code",
   "execution_count": 23,
   "metadata": {},
   "outputs": [
    {
     "name": "stdout",
     "output_type": "stream",
     "text": [
      "Downloading http://yann.lecun.com/exdb/mnist/train-images-idx3-ubyte.gz\n"
     ]
    },
    {
     "name": "stderr",
     "output_type": "stream",
     "text": [
      "0.7%"
     ]
    },
    {
     "name": "stdout",
     "output_type": "stream",
     "text": [
      "Downloading http://yann.lecun.com/exdb/mnist/train-images-idx3-ubyte.gz to ./data\\MNIST\\raw\\train-images-idx3-ubyte.gz\n"
     ]
    },
    {
     "name": "stderr",
     "output_type": "stream",
     "text": [
      "100.0%\n"
     ]
    },
    {
     "name": "stdout",
     "output_type": "stream",
     "text": [
      "Extracting ./data\\MNIST\\raw\\train-images-idx3-ubyte.gz to ./data\\MNIST\\raw\n",
      "\n",
      "Downloading http://yann.lecun.com/exdb/mnist/train-labels-idx1-ubyte.gz\n"
     ]
    },
    {
     "name": "stderr",
     "output_type": "stream",
     "text": [
      "100.0%"
     ]
    },
    {
     "name": "stdout",
     "output_type": "stream",
     "text": [
      "Downloading http://yann.lecun.com/exdb/mnist/train-labels-idx1-ubyte.gz to ./data\\MNIST\\raw\\train-labels-idx1-ubyte.gz\n",
      "Extracting ./data\\MNIST\\raw\\train-labels-idx1-ubyte.gz to ./data\\MNIST\\raw\n",
      "\n",
      "Downloading http://yann.lecun.com/exdb/mnist/t10k-images-idx3-ubyte.gz\n"
     ]
    },
    {
     "name": "stderr",
     "output_type": "stream",
     "text": [
      "\n",
      "2.0%"
     ]
    },
    {
     "name": "stdout",
     "output_type": "stream",
     "text": [
      "Downloading http://yann.lecun.com/exdb/mnist/t10k-images-idx3-ubyte.gz to ./data\\MNIST\\raw\\t10k-images-idx3-ubyte.gz\n"
     ]
    },
    {
     "name": "stderr",
     "output_type": "stream",
     "text": [
      "100.0%\n"
     ]
    },
    {
     "name": "stdout",
     "output_type": "stream",
     "text": [
      "Extracting ./data\\MNIST\\raw\\t10k-images-idx3-ubyte.gz to ./data\\MNIST\\raw\n",
      "\n",
      "Downloading http://yann.lecun.com/exdb/mnist/t10k-labels-idx1-ubyte.gz\n"
     ]
    },
    {
     "name": "stderr",
     "output_type": "stream",
     "text": [
      "100.0%"
     ]
    },
    {
     "name": "stdout",
     "output_type": "stream",
     "text": [
      "Downloading http://yann.lecun.com/exdb/mnist/t10k-labels-idx1-ubyte.gz to ./data\\MNIST\\raw\\t10k-labels-idx1-ubyte.gz\n",
      "Extracting ./data\\MNIST\\raw\\t10k-labels-idx1-ubyte.gz to ./data\\MNIST\\raw\n",
      "\n",
      "torch.Size([3, 1, 28, 28]) torch.Size([3])\n"
     ]
    },
    {
     "name": "stderr",
     "output_type": "stream",
     "text": [
      "\n"
     ]
    }
   ],
   "source": [
    "train_dataset=torchvision.datasets.MNIST(root='./data',train=True,\n",
    "                                         transform=torchvision.transforms.ToTensor(),\n",
    "                                         download=True)\n",
    "train_loader=DataLoader(dataset=train_dataset,batch_size=3,shuffle=True,num_workers=0)\n",
    "#look at one random sample\n",
    "dataiter=iter(train_loader)\n",
    "data=next(dataiter)\n",
    "inputs,targets=data\n",
    "print(inputs.shape,targets.shape)"
   ]
  },
  {
   "cell_type": "code",
   "execution_count": null,
   "metadata": {},
   "outputs": [],
   "source": []
  }
 ],
 "metadata": {
  "kernelspec": {
   "display_name": "Python 3",
   "language": "python",
   "name": "python3"
  },
  "language_info": {
   "codemirror_mode": {
    "name": "ipython",
    "version": 3
   },
   "file_extension": ".py",
   "mimetype": "text/x-python",
   "name": "python",
   "nbconvert_exporter": "python",
   "pygments_lexer": "ipython3",
   "version": "3.11.3"
  },
  "orig_nbformat": 4
 },
 "nbformat": 4,
 "nbformat_minor": 2
}
